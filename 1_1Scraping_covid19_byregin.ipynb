{
 "cells": [
  {
   "cell_type": "code",
   "execution_count": 7,
   "id": "ef68d919",
   "metadata": {},
   "outputs": [],
   "source": [
    "import pandas as pd\n",
    "import numpy as np\n",
    "from selenium import webdriver\n",
    "browser =webdriver.Chrome('./chromedriver.exe')\n",
    "browser.get('http://openapi.data.go.kr/openapi/service/rest/Covid19/getCovid19SidoInfStateJson?serviceKey=h5TFcz0%2FWQo%2BcoXdmz0NN5Q7VeW6FskLaFgBO0s4OvsL2hyJ7Pk6fakKu4bZQiwuT1%2B%2B0huvLN9AUJSRVExLQg%3D%3D&pageNo=1&numOfRows=10&startCreateDt=20200410&endCreateDt=20210719')"
   ]
  },
  {
   "cell_type": "code",
   "execution_count": 8,
   "id": "a1096513",
   "metadata": {},
   "outputs": [
    {
     "ename": "TypeError",
     "evalue": "object of type 'NoneType' has no len()",
     "output_type": "error",
     "traceback": [
      "\u001b[1;31m---------------------------------------------------------------------------\u001b[0m",
      "\u001b[1;31mTypeError\u001b[0m                                 Traceback (most recent call last)",
      "\u001b[1;32m<ipython-input-8-9a7eadfef227>\u001b[0m in \u001b[0;36m<module>\u001b[1;34m\u001b[0m\n\u001b[0;32m      2\u001b[0m \u001b[1;33m\u001b[0m\u001b[0m\n\u001b[0;32m      3\u001b[0m \u001b[1;32mfrom\u001b[0m \u001b[0mbs4\u001b[0m \u001b[1;32mimport\u001b[0m \u001b[0mBeautifulSoup\u001b[0m \u001b[1;32mas\u001b[0m \u001b[0mbs\u001b[0m\u001b[1;33m\u001b[0m\u001b[0m\n\u001b[1;32m----> 4\u001b[1;33m \u001b[0msoup\u001b[0m\u001b[1;33m=\u001b[0m\u001b[0mbs\u001b[0m\u001b[1;33m(\u001b[0m\u001b[0mhtml\u001b[0m\u001b[1;33m,\u001b[0m\u001b[1;34m'html.parser'\u001b[0m\u001b[1;33m)\u001b[0m\u001b[1;33m\u001b[0m\u001b[0m\n\u001b[0m\u001b[0;32m      5\u001b[0m \u001b[0mtags\u001b[0m\u001b[1;33m=\u001b[0m\u001b[0msoup\u001b[0m\u001b[1;33m.\u001b[0m\u001b[0mselect\u001b[0m\u001b[1;33m(\u001b[0m\u001b[1;34m'body>items>item'\u001b[0m\u001b[1;33m)\u001b[0m\u001b[1;33m\u001b[0m\u001b[0m\n",
      "\u001b[1;32mc:\\python\\python36\\lib\\site-packages\\bs4\\__init__.py\u001b[0m in \u001b[0;36m__init__\u001b[1;34m(self, markup, features, builder, parse_only, from_encoding, exclude_encodings, element_classes, **kwargs)\u001b[0m\n\u001b[0;32m    308\u001b[0m         \u001b[1;32mif\u001b[0m \u001b[0mhasattr\u001b[0m\u001b[1;33m(\u001b[0m\u001b[0mmarkup\u001b[0m\u001b[1;33m,\u001b[0m \u001b[1;34m'read'\u001b[0m\u001b[1;33m)\u001b[0m\u001b[1;33m:\u001b[0m        \u001b[1;31m# It's a file-type object.\u001b[0m\u001b[1;33m\u001b[0m\u001b[0m\n\u001b[0;32m    309\u001b[0m             \u001b[0mmarkup\u001b[0m \u001b[1;33m=\u001b[0m \u001b[0mmarkup\u001b[0m\u001b[1;33m.\u001b[0m\u001b[0mread\u001b[0m\u001b[1;33m(\u001b[0m\u001b[1;33m)\u001b[0m\u001b[1;33m\u001b[0m\u001b[0m\n\u001b[1;32m--> 310\u001b[1;33m         elif len(markup) <= 256 and (\n\u001b[0m\u001b[0;32m    311\u001b[0m                 \u001b[1;33m(\u001b[0m\u001b[0misinstance\u001b[0m\u001b[1;33m(\u001b[0m\u001b[0mmarkup\u001b[0m\u001b[1;33m,\u001b[0m \u001b[0mbytes\u001b[0m\u001b[1;33m)\u001b[0m \u001b[1;32mand\u001b[0m \u001b[1;32mnot\u001b[0m \u001b[1;34mb'<'\u001b[0m \u001b[1;32min\u001b[0m \u001b[0mmarkup\u001b[0m\u001b[1;33m)\u001b[0m\u001b[1;33m\u001b[0m\u001b[0m\n\u001b[0;32m    312\u001b[0m                 \u001b[1;32mor\u001b[0m \u001b[1;33m(\u001b[0m\u001b[0misinstance\u001b[0m\u001b[1;33m(\u001b[0m\u001b[0mmarkup\u001b[0m\u001b[1;33m,\u001b[0m \u001b[0mstr\u001b[0m\u001b[1;33m)\u001b[0m \u001b[1;32mand\u001b[0m \u001b[1;32mnot\u001b[0m \u001b[1;34m'<'\u001b[0m \u001b[1;32min\u001b[0m \u001b[0mmarkup\u001b[0m\u001b[1;33m)\u001b[0m\u001b[1;33m\u001b[0m\u001b[0m\n",
      "\u001b[1;31mTypeError\u001b[0m: object of type 'NoneType' has no len()"
     ]
    }
   ],
   "source": [
    "html =browser.page_source\n",
    "\n",
    "from bs4 import BeautifulSoup as bs\n",
    "soup=bs(html,'html.parser')\n",
    "tags=soup.select('body>items>item')"
   ]
  },
  {
   "cell_type": "code",
   "execution_count": 9,
   "id": "db4ccf1f",
   "metadata": {},
   "outputs": [],
   "source": [
    "result =list()\n",
    "\n",
    "for tag in tags:\n",
    "    date = tag.select('stdDay')[0].text.strip()\n",
    "    date = date.replace('년','-');\n",
    "    date = date.replace('월','-');\n",
    "    date = date.replace('일','');\n",
    "    date = date.replace('00시','');\n",
    "    date = date.replace(' ','');\n",
    "    regin = tag.select('gubun')[0].text.strip()\n",
    "    deathcnt = tag.select('deathCnt')[0].text.strip()\n",
    "    incdec=tag.select('incDec')[0].text.strip()\n",
    "    clearcnt = tag.select('isolClearCnt')[0].text.strip()\n",
    "    defcnt = tag.select('defCnt')[0].text.strip()\n",
    "    lsolcnt = tag.select('isolIngCnt')[0].text.strip()\n",
    "    overflowcnt = tag.select('overFlowCnt')[0].text.strip()\n",
    "    localocccnt = tag.select('localOccCnt')[0].text.strip()\n",
    "    result.append([date,regin,incdec,defcnt,lsolcnt,clearcnt,deathcnt,localocccnt,overflowcnt])"
   ]
  },
  {
   "cell_type": "code",
   "execution_count": 10,
   "id": "74006228",
   "metadata": {},
   "outputs": [],
   "source": [
    "pd_data = pd.DataFrame(result,columns=['날짜','지역','전일대비 증감수','확진자수','격리중 환자수','격리 해제 수','사망자수','지역발생 수','해외유입 수'])"
   ]
  },
  {
   "cell_type": "code",
   "execution_count": null,
   "id": "7b7dbd05",
   "metadata": {},
   "outputs": [],
   "source": [
    "pd_data"
   ]
  },
  {
   "cell_type": "code",
   "execution_count": 11,
   "id": "b3b73487",
   "metadata": {},
   "outputs": [],
   "source": [
    "pd_data.to_csv('./datas/covid19_status_byregin_20210719.csv',encoding='euc-kr')"
   ]
  },
  {
   "cell_type": "code",
   "execution_count": null,
   "id": "ba3089be",
   "metadata": {},
   "outputs": [],
   "source": []
  }
 ],
 "metadata": {
  "kernelspec": {
   "display_name": "Python 3",
   "language": "python",
   "name": "python3"
  },
  "language_info": {
   "codemirror_mode": {
    "name": "ipython",
    "version": 3
   },
   "file_extension": ".py",
   "mimetype": "text/x-python",
   "name": "python",
   "nbconvert_exporter": "python",
   "pygments_lexer": "ipython3",
   "version": "3.6.4"
  }
 },
 "nbformat": 4,
 "nbformat_minor": 5
}
