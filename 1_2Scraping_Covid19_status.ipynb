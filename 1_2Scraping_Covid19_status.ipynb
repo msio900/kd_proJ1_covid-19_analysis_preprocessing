{
 "cells": [
  {
   "cell_type": "code",
   "execution_count": 3,
   "id": "8475860d",
   "metadata": {},
   "outputs": [],
   "source": [
    "import pandas as pd\n",
    "import numpy as np\n",
    "from selenium import webdriver\n",
    "browser =webdriver.Chrome('./chromedriver.exe')\n",
    "browser.get('http://openapi.data.go.kr/openapi/service/rest/Covid19/getCovid19InfStateJson?serviceKey=h5TFcz0%2FWQo%2BcoXdmz0NN5Q7VeW6FskLaFgBO0s4OvsL2hyJ7Pk6fakKu4bZQiwuT1%2B%2B0huvLN9AUJSRVExLQg%3D%3D&pageNo=10&numOfRows=oup as 100&startCreateDt=20200310&endCreateDt=20210719')"
   ]
  },
  {
   "cell_type": "code",
   "execution_count": 4,
   "id": "8b6e0b8d",
   "metadata": {},
   "outputs": [],
   "source": [
    "html = browser.page_source"
   ]
  },
  {
   "cell_type": "code",
   "execution_count": 5,
   "id": "4b21f605",
   "metadata": {},
   "outputs": [],
   "source": [
    "from bs4 import BeautifulSoup as bs\n",
    "\n",
    "soup =bs(html,'html.parser')\n",
    "tags=soup.select('body>items>item')"
   ]
  },
  {
   "cell_type": "code",
   "execution_count": 37,
   "id": "e0b61e6d",
   "metadata": {},
   "outputs": [],
   "source": [
    "result = list();\n",
    "\n",
    "for tag in tags:\n",
    "    date = pd.to_datetime(tag.select('stateDt')[0].text.strip())\n",
    "    deathcnt = tag.select('deathCnt')[0].text.strip()\n",
    "    decidecnt = tag.select('decideCnt')[0].text.strip()\n",
    "    daydecidecnt = tag.select('decideCnt')[0].text.strip()\n",
    "    examcnt = tag.select('examCnt')[0].text.strip()\n",
    "    resultnegcnt =tag.select('resutlNegCnt')[0].text.strip()\n",
    "    accdefrate = tag.select('accDefRate')[0].text.strip()\n",
    "    accexamcnt =  tag.select('accExamCnt')[0].text.strip()\n",
    "    accexamcompcnt =  tag.select('accExamCompCnt')[0].text.strip()\n",
    "    carecnt =tag.select('careCnt')[0].text.strip()\n",
    "    clearcnt = tag.select('clearCnt')[0].text.strip()\n",
    "    result.append([date,daydecidecnt,examcnt,resultnegcnt,decidecnt,deathcnt,carecnt,clearcnt,accexamcnt,accexamcompcnt,accdefrate])\n",
    "\n"
   ]
  },
  {
   "cell_type": "code",
   "execution_count": 51,
   "id": "9015189c",
   "metadata": {},
   "outputs": [],
   "source": [
    "# 날짜 순이 맞지 않아 날짜 순으로 정렬\n",
    "sort_result =sorted(result, key=lambda r :r[0],reverse=True )\n",
    "\n",
    "\n",
    "for index in range(0,len(sort_result)-1):\n",
    "    sort_result[index][1] = int(sort_result[index][4])-int(sort_result[index+1][4])"
   ]
  },
  {
   "cell_type": "code",
   "execution_count": 52,
   "id": "eeb88968",
   "metadata": {},
   "outputs": [],
   "source": [
    "pd_data = pd.DataFrame(sort_result,columns=['날짜','일일 확진자수','검사수','음성자수','확진자수','사망자수','치료 환자수','완치자수','누적 검사 수','누적 검사 완료 수','누적 확진률(%)'])"
   ]
  },
  {
   "cell_type": "code",
   "execution_count": 53,
   "id": "d96493f7",
   "metadata": {},
   "outputs": [],
   "source": [
    "pd_data.to_csv('./datas/covid19_status_20210719.csv',encoding='euc-kr')"
   ]
  },
  {
   "cell_type": "code",
   "execution_count": null,
   "id": "739d9df0",
   "metadata": {},
   "outputs": [],
   "source": []
  }
 ],
 "metadata": {
  "kernelspec": {
   "display_name": "Python 3",
   "language": "python",
   "name": "python3"
  },
  "language_info": {
   "codemirror_mode": {
    "name": "ipython",
    "version": 3
   },
   "file_extension": ".py",
   "mimetype": "text/x-python",
   "name": "python",
   "nbconvert_exporter": "python",
   "pygments_lexer": "ipython3",
   "version": "3.6.4"
  }
 },
 "nbformat": 4,
 "nbformat_minor": 5
}
