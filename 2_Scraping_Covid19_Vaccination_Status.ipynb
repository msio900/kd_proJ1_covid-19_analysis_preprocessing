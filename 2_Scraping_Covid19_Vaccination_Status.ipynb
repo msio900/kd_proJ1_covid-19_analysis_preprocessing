{
 "cells": [
  {
   "cell_type": "code",
   "execution_count": 1,
   "id": "ff9e9fe5",
   "metadata": {},
   "outputs": [
    {
     "data": {
      "text/plain": [
       "pandas.core.indexing._LocIndexer"
      ]
     },
     "execution_count": 1,
     "metadata": {},
     "output_type": "execute_result"
    }
   ],
   "source": [
    "import pandas as pd\n",
    "import numpy as np\n",
    "popul_pd = pd.read_csv('./datas/population_202106.csv',encoding = 'euc-kr')\n",
    "type(popul_pd.loc(1))"
   ]
  },
  {
   "cell_type": "code",
   "execution_count": 2,
   "id": "d450f0de",
   "metadata": {},
   "outputs": [],
   "source": [
    "from selenium import webdriver"
   ]
  },
  {
   "cell_type": "code",
   "execution_count": 3,
   "id": "f6c2f0f0",
   "metadata": {},
   "outputs": [],
   "source": [
    "browser = webdriver.Chrome('./chromedriver.exe')"
   ]
  },
  {
   "cell_type": "code",
   "execution_count": 4,
   "id": "867783e3",
   "metadata": {},
   "outputs": [],
   "source": [
    "browser.get('https://ncv.kdca.go.kr/mainStatus.es?mid=a11702000000')"
   ]
  },
  {
   "cell_type": "code",
   "execution_count": 5,
   "id": "2ba1a032",
   "metadata": {},
   "outputs": [],
   "source": [
    "html =browser.page_source"
   ]
  },
  {
   "cell_type": "code",
   "execution_count": 6,
   "id": "5916e46e",
   "metadata": {},
   "outputs": [],
   "source": [
    "from bs4 import BeautifulSoup as bs"
   ]
  },
  {
   "cell_type": "code",
   "execution_count": 7,
   "id": "a12e3186",
   "metadata": {},
   "outputs": [],
   "source": [
    "soup = bs(html,'html.parser')"
   ]
  },
  {
   "cell_type": "code",
   "execution_count": 8,
   "id": "19ad6627",
   "metadata": {},
   "outputs": [],
   "source": [
    "tags = soup.select('.data_table>table>tbody>tr')"
   ]
  },
  {
   "cell_type": "code",
   "execution_count": 13,
   "id": "4bbe8a4a",
   "metadata": {
    "scrolled": true
   },
   "outputs": [
    {
     "data": {
      "text/plain": [
       "[['합계', 158538, 16291956, 46093, 6613294, 31.53, 12.8],\n",
       " ['서울', 31651, 3039867, 9668, 1226600, 31.78, 12.82],\n",
       " ['부산', 8231, 1157895, 3246, 441447, 34.42, 13.12],\n",
       " ['대구', 6746, 700680, 1944, 278367, 29.22, 11.61],\n",
       " ['인천', 7079, 848418, 3013, 335123, 28.89, 11.41],\n",
       " ['광주', 4712, 452293, 984, 192880, 31.35, 13.37],\n",
       " ['대전', 4569, 433047, 1241, 180305, 29.74, 12.38],\n",
       " ['울산', 3267, 313775, 1077, 116971, 27.86, 10.38],\n",
       " ['세종', 1152, 84862, 235, 34089, 23.38, 9.39],\n",
       " ['경기', 43918, 3771334, 9269, 1505921, 27.93, 11.15],\n",
       " ['강원', 4990, 580514, 1691, 243652, 37.81, 15.87],\n",
       " ['충북', 4900, 545180, 1432, 225090, 34.13, 14.09],\n",
       " ['충남', 6435, 725458, 1742, 310051, 34.26, 14.64],\n",
       " ['전북', 5259, 685825, 2289, 295213, 38.22, 16.45],\n",
       " ['전남', 6088, 754077, 2173, 325830, 40.96, 17.7],\n",
       " ['경북', 8383, 927114, 2489, 383941, 35.22, 14.59],\n",
       " ['경남', 9647, 1062628, 2764, 431271, 31.95, 12.97],\n",
       " ['제주', 1511, 208989, 836, 86543, 30.95, 12.82]]"
      ]
     },
     "execution_count": 13,
     "metadata": {},
     "output_type": "execute_result"
    }
   ],
   "source": [
    "result = list();\n",
    "for index in range(3,21):\n",
    "    scope = tags[index].select('th[scope]')[0].text.strip();\n",
    "    first_day_performance = int(tags[index].select('td')[0].text.strip().replace(',',''));\n",
    "    first_cumulative = int(tags[index].select('td')[1].text.strip().replace(',',''));\n",
    "    second_day_performance = int(tags[index].select('td')[2].text.strip().replace(',',''));\n",
    "    second_cumulative =int(tags[index].select('td')[3].text.strip().replace(',','')); \n",
    "    \n",
    "    result.append([scope, first_day_performance, first_cumulative, second_day_performance, second_cumulative])\n",
    "\n",
    "for i in range(18):\n",
    "    popul= popul_pd.iloc[i:i+1, 1:2].values[0][0]\n",
    "    vaccinated_first = np.round(result[i][2]/popul*100,2)\n",
    "    vaccinated_second =  np.round(result[i][4]/popul*100,2)\n",
    "    result[i].append(vaccinated_first)\n",
    "    result[i].append(vaccinated_second)\n",
    "result"
   ]
  },
  {
   "cell_type": "code",
   "execution_count": 14,
   "id": "94bf9443",
   "metadata": {},
   "outputs": [],
   "source": [
    "pd_data = pd.DataFrame(result,columns=['지역','1차 당일 실적','1차 누계','2차 당일 실적','2차 누계','1차 접종률','2차 접종률'])"
   ]
  },
  {
   "cell_type": "code",
   "execution_count": 15,
   "id": "04f813bd",
   "metadata": {},
   "outputs": [],
   "source": [
    "pd_data.to_csv('./datas/vaccination_byregin_20210719.csv',encoding = 'euc-kr')"
   ]
  },
  {
   "cell_type": "code",
   "execution_count": null,
   "id": "6dbbaf7b",
   "metadata": {},
   "outputs": [],
   "source": []
  }
 ],
 "metadata": {
  "kernelspec": {
   "display_name": "Python 3",
   "language": "python",
   "name": "python3"
  },
  "language_info": {
   "codemirror_mode": {
    "name": "ipython",
    "version": 3
   },
   "file_extension": ".py",
   "mimetype": "text/x-python",
   "name": "python",
   "nbconvert_exporter": "python",
   "pygments_lexer": "ipython3",
   "version": "3.6.4"
  }
 },
 "nbformat": 4,
 "nbformat_minor": 5
}
