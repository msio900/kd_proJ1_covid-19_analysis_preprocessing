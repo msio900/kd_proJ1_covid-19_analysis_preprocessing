{
 "cells": [
  {
   "cell_type": "markdown",
   "source": [
    "# 무역 데이터 전처리\r\n",
    "> 관세청 수출입 무역 통계 사이트를 통해 '신성질별', '국가별' 데이터셋 수집"
   ],
   "metadata": {}
  },
  {
   "cell_type": "markdown",
   "source": [
    "## xls to xlsx\r\n",
    "> 수집된 데이터가 `xls`이므로 `xlsx`파일로 전환"
   ],
   "metadata": {}
  },
  {
   "cell_type": "code",
   "execution_count": null,
   "source": [
    "import os\r\n",
    "import win32com.client as client\r\n",
    "\r\n",
    "excel = client.Dispatch(\"excel.application\")\r\n",
    "\r\n",
    "for file in os.listdir(os.getcwd()+'C:/proJ1/need/xls/'):\r\n",
    "    filename, fileextension = os.path.splitext(file)\r\n",
    "    wb = excel.Workbooks.Open(os.getcwd() + 'C:/proJ1/need/xls/' + file)\r\n",
    "    output_path = os.getcwd()+'C:/proJ1/need/xlsx/' + filename\r\n",
    "    wb.SaveAs(output_path,51)\r\n",
    "    wb.Close()\r\n",
    "excel.Quit()"
   ],
   "outputs": [],
   "metadata": {}
  },
  {
   "cell_type": "markdown",
   "source": [
    "## 데이터 확인\r\n",
    "> `xlsx`로 변환된 데이터 중 에러 데이터 확인"
   ],
   "metadata": {}
  },
  {
   "cell_type": "code",
   "execution_count": null,
   "source": [
    "import pandas as pd  \r\n",
    "import numpy as np  \r\n",
    "import glob  \r\n",
    "import sys\r\n",
    "\r\n",
    "#파일 Union\r\n",
    "a = 0\r\n",
    "all_data = pd.DataFrame()  \r\n",
    "for f in glob.glob('C:/proJ_1/exp_data/exp1/*.xlsx'):\r\n",
    "    df = pd.read_excel(f,\r\n",
    "                    date_parser=False,\r\n",
    "                    header=4,\r\n",
    "                    engine='openpyxl')\r\n",
    "    a+=1\r\n",
    "    print(a)\r\n",
    "    print(df.head(3))"
   ],
   "outputs": [],
   "metadata": {}
  },
  {
   "cell_type": "markdown",
   "source": [
    "## 데이터 합치기\r\n",
    "> 수집된 316개의 `xlsx`파일을 합쳐서 `csv`로 변환"
   ],
   "metadata": {}
  },
  {
   "cell_type": "code",
   "execution_count": null,
   "source": [
    "import pandas as pd  \r\n",
    "import numpy as np  \r\n",
    "import glob  \r\n",
    "import sys\r\n",
    "\r\n",
    "#파일 Union\r\n",
    "a = 1\r\n",
    "re_all_data = pd.DataFrame()  \r\n",
    "for f in glob.glob('C:/proJ1/need/xls/ttt/xlsx/*.xlsx'):\r\n",
    "    df = pd.read_excel(f,\r\n",
    "                    date_parser=False,\r\n",
    "                    header=5,\r\n",
    "                    thousands=',',\r\n",
    "                    names=['period','exp/imp','nation','HScode','weight','value'],\r\n",
    "                    engine='openpyxl')\r\n",
    "    \r\n",
    "    # print(df.head(3))\r\n",
    "    print(a)\r\n",
    "    # print(df.head(3))\r\n",
    "    a += 1\r\n",
    "    df['date'] = df['period'].astype('str')\r\n",
    "    df['date'] = pd.to_datetime(df['period'])\r\n",
    "    re_all_data = re_all_data.append(df, ignore_index=True)\r\n",
    "\r\n",
    "#데이터갯수확인  \r\n",
    "print(re_all_data.shape)\r\n",
    "\r\n",
    "re_all_data.to_csv('./re_all_total.csv', encoding='utf-8-sig', index=False, header=True)"
   ],
   "outputs": [],
   "metadata": {}
  },
  {
   "cell_type": "markdown",
   "source": [
    "## 날짜 데이터 전처리\r\n",
    "> `str`로 변환 후 `datetime`타입 변환"
   ],
   "metadata": {}
  },
  {
   "cell_type": "code",
   "execution_count": null,
   "source": [
    "re_all_data['date'].replace('.','-',inplace=True)\r\n",
    "re_all_data.head()"
   ],
   "outputs": [],
   "metadata": {}
  },
  {
   "cell_type": "code",
   "execution_count": null,
   "source": [
    "re_all_data['str_date'] = re_all_data['date'].str.replace('.','-')\r\n",
    "re_all_data.head()\r\n",
    "re_all_data.to_csv('./re_all_total.csv', encoding='utf-8-sig', index=False, header=True)"
   ],
   "outputs": [],
   "metadata": {}
  },
  {
   "cell_type": "markdown",
   "source": [
    "## 국가 데이터 카테고리 정리"
   ],
   "metadata": {}
  },
  {
   "cell_type": "code",
   "execution_count": null,
   "source": [
    "nation_df = df_filter['nation'].unique()\r\n",
    "nation_df = pd.DataFrame(nation_df)\r\n",
    "nation_df.to_excel('./all_nation.xlsx', index=False, header=False)"
   ],
   "outputs": [],
   "metadata": {}
  },
  {
   "cell_type": "code",
   "execution_count": null,
   "source": [
    "dfNation = pd.read_excel('./all_nation.xlsx')\r\n",
    "dfNation.head()"
   ],
   "outputs": [],
   "metadata": {}
  },
  {
   "cell_type": "code",
   "execution_count": null,
   "source": [
    "dfNation = pd.read_excel('./all_nation.xlsx')\r\n",
    "com_data = df_filter.join(dfNation.set_index('kor_nation_trade'), on='nation')"
   ],
   "outputs": [],
   "metadata": {}
  },
  {
   "cell_type": "markdown",
   "source": [
    "## 신성질 분류 표 작성"
   ],
   "metadata": {}
  },
  {
   "cell_type": "code",
   "execution_count": null,
   "source": [
    "hscode_list = all_data['HScode'].unique()\r\n",
    "df = pd.DataFrame(hscode_list)\r\n",
    "df.to_excel('./hscode.xlsx',header=False, index=False, encoding='utf-8-sig')"
   ],
   "outputs": [],
   "metadata": {}
  }
 ],
 "metadata": {
  "kernelspec": {
   "name": "python3",
   "display_name": "Python 3.6.4 64-bit"
  },
  "language_info": {
   "name": "python",
   "version": "3.6.4",
   "mimetype": "text/x-python",
   "codemirror_mode": {
    "name": "ipython",
    "version": 3
   },
   "pygments_lexer": "ipython3",
   "nbconvert_exporter": "python",
   "file_extension": ".py"
  },
  "metadata": {
   "interpreter": {
    "hash": "4c65b98e956c6ae24f8ae0bc56d1e465ff92310dbdec0a4bd6b48ffdf1441c98"
   }
  },
  "orig_nbformat": 3,
  "interpreter": {
   "hash": "4c65b98e956c6ae24f8ae0bc56d1e465ff92310dbdec0a4bd6b48ffdf1441c98"
  }
 },
 "nbformat": 4,
 "nbformat_minor": 2
}